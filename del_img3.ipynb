{
 "cells": [
  {
   "cell_type": "markdown",
   "metadata": {},
   "source": [
    "PIL库取得JPG格式的exif信息是OK的，但是无法对HEIC格式操作。\n",
    "首先，初步筛选删除对象，仅仅通过文件名进行判断。\n",
    "然后，通过taken time，file size，location等多种方式确认无误。\n",
    "最后，是否可以通过图像处理的方式，直接确认两个图片就是同一个内容呢？比如都转化为bitmap，进行抽样像素对比？\n"
   ]
  },
  {
   "cell_type": "code",
   "execution_count": 36,
   "metadata": {},
   "outputs": [
    {
     "ename": "KeyboardInterrupt",
     "evalue": "",
     "output_type": "error",
     "traceback": [
      "\u001b[1;31m---------------------------------------------------------------------------\u001b[0m",
      "\u001b[1;31mNotADirectoryError\u001b[0m                        Traceback (most recent call last)",
      "File \u001b[1;32mc:\\Users\\fromw\\anaconda3\\envs\\jpg_del_dup\\lib\\glob.py:124\u001b[0m, in \u001b[0;36m_iterdir\u001b[1;34m(dirname, dironly)\u001b[0m\n\u001b[0;32m    123\u001b[0m \u001b[39mtry\u001b[39;00m:\n\u001b[1;32m--> 124\u001b[0m     \u001b[39mwith\u001b[39;00m os\u001b[39m.\u001b[39;49mscandir(dirname) \u001b[39mas\u001b[39;00m it:\n\u001b[0;32m    125\u001b[0m         \u001b[39mfor\u001b[39;00m entry \u001b[39min\u001b[39;00m it:\n",
      "\u001b[1;31mNotADirectoryError\u001b[0m: [WinError 267] 目录名称无效。: './iPhoneXR_undocumented\\\\101APPLE\\\\IMG_1242.JPG'",
      "\nDuring handling of the above exception, another exception occurred:\n",
      "\u001b[1;31mKeyboardInterrupt\u001b[0m                         Traceback (most recent call last)",
      "Cell \u001b[1;32mIn[36], line 23\u001b[0m\n\u001b[0;32m     21\u001b[0m ext \u001b[39m=\u001b[39m Path(filename)\u001b[39m.\u001b[39msuffix \n\u001b[0;32m     22\u001b[0m fname \u001b[39m=\u001b[39m Path(filename)\u001b[39m.\u001b[39mstem \n\u001b[1;32m---> 23\u001b[0m \u001b[39mfor\u001b[39;00m filename2 \u001b[39min\u001b[39;00m glob\u001b[39m.\u001b[39miglob(pathname\u001b[39m=\u001b[39m del_dir, recursive\u001b[39m=\u001b[39m\u001b[39mTrue\u001b[39;00m):\n\u001b[0;32m     24\u001b[0m     \u001b[39mif\u001b[39;00m os\u001b[39m.\u001b[39mpath\u001b[39m.\u001b[39misfile(filename2): \u001b[39m# filter dirs\u001b[39;00m\n\u001b[0;32m     25\u001b[0m         ext2 \u001b[39m=\u001b[39m Path(filename2)\u001b[39m.\u001b[39msuffix \n",
      "File \u001b[1;32mc:\\Users\\fromw\\anaconda3\\envs\\jpg_del_dup\\lib\\glob.py:75\u001b[0m, in \u001b[0;36m_iglob\u001b[1;34m(pathname, recursive, dironly)\u001b[0m\n\u001b[0;32m     73\u001b[0m     glob_in_dir \u001b[39m=\u001b[39m _glob0\n\u001b[0;32m     74\u001b[0m \u001b[39mfor\u001b[39;00m dirname \u001b[39min\u001b[39;00m dirs:\n\u001b[1;32m---> 75\u001b[0m     \u001b[39mfor\u001b[39;00m name \u001b[39min\u001b[39;00m glob_in_dir(dirname, basename, dironly):\n\u001b[0;32m     76\u001b[0m         \u001b[39myield\u001b[39;00m os\u001b[39m.\u001b[39mpath\u001b[39m.\u001b[39mjoin(dirname, name)\n",
      "File \u001b[1;32mc:\\Users\\fromw\\anaconda3\\envs\\jpg_del_dup\\lib\\glob.py:113\u001b[0m, in \u001b[0;36m_glob2\u001b[1;34m(dirname, pattern, dironly)\u001b[0m\n\u001b[0;32m    111\u001b[0m \u001b[39massert\u001b[39;00m _isrecursive(pattern)\n\u001b[0;32m    112\u001b[0m \u001b[39myield\u001b[39;00m pattern[:\u001b[39m0\u001b[39m]\n\u001b[1;32m--> 113\u001b[0m \u001b[39myield from\u001b[39;00m _rlistdir(dirname, dironly)\n",
      "File \u001b[1;32mc:\\Users\\fromw\\anaconda3\\envs\\jpg_del_dup\\lib\\glob.py:145\u001b[0m, in \u001b[0;36m_rlistdir\u001b[1;34m(dirname, dironly)\u001b[0m\n\u001b[0;32m    143\u001b[0m \u001b[39myield\u001b[39;00m x\n\u001b[0;32m    144\u001b[0m path \u001b[39m=\u001b[39m os\u001b[39m.\u001b[39mpath\u001b[39m.\u001b[39mjoin(dirname, x) \u001b[39mif\u001b[39;00m dirname \u001b[39melse\u001b[39;00m x\n\u001b[1;32m--> 145\u001b[0m \u001b[39mfor\u001b[39;00m y \u001b[39min\u001b[39;00m _rlistdir(path, dironly):\n\u001b[0;32m    146\u001b[0m     \u001b[39myield\u001b[39;00m os\u001b[39m.\u001b[39mpath\u001b[39m.\u001b[39mjoin(x, y)\n",
      "File \u001b[1;32mc:\\Users\\fromw\\anaconda3\\envs\\jpg_del_dup\\lib\\glob.py:145\u001b[0m, in \u001b[0;36m_rlistdir\u001b[1;34m(dirname, dironly)\u001b[0m\n\u001b[0;32m    143\u001b[0m \u001b[39myield\u001b[39;00m x\n\u001b[0;32m    144\u001b[0m path \u001b[39m=\u001b[39m os\u001b[39m.\u001b[39mpath\u001b[39m.\u001b[39mjoin(dirname, x) \u001b[39mif\u001b[39;00m dirname \u001b[39melse\u001b[39;00m x\n\u001b[1;32m--> 145\u001b[0m \u001b[39mfor\u001b[39;00m y \u001b[39min\u001b[39;00m _rlistdir(path, dironly):\n\u001b[0;32m    146\u001b[0m     \u001b[39myield\u001b[39;00m os\u001b[39m.\u001b[39mpath\u001b[39m.\u001b[39mjoin(x, y)\n",
      "File \u001b[1;32mc:\\Users\\fromw\\anaconda3\\envs\\jpg_del_dup\\lib\\glob.py:140\u001b[0m, in \u001b[0;36m_rlistdir\u001b[1;34m(dirname, dironly)\u001b[0m\n\u001b[0;32m    139\u001b[0m \u001b[39mdef\u001b[39;00m \u001b[39m_rlistdir\u001b[39m(dirname, dironly):\n\u001b[1;32m--> 140\u001b[0m     names \u001b[39m=\u001b[39m _listdir(dirname, dironly)\n\u001b[0;32m    141\u001b[0m     \u001b[39mfor\u001b[39;00m x \u001b[39min\u001b[39;00m names:\n\u001b[0;32m    142\u001b[0m         \u001b[39mif\u001b[39;00m \u001b[39mnot\u001b[39;00m _ishidden(x):\n",
      "File \u001b[1;32mc:\\Users\\fromw\\anaconda3\\envs\\jpg_del_dup\\lib\\glob.py:136\u001b[0m, in \u001b[0;36m_listdir\u001b[1;34m(dirname, dironly)\u001b[0m\n\u001b[0;32m    134\u001b[0m \u001b[39mdef\u001b[39;00m \u001b[39m_listdir\u001b[39m(dirname, dironly):\n\u001b[0;32m    135\u001b[0m     \u001b[39mwith\u001b[39;00m contextlib\u001b[39m.\u001b[39mclosing(_iterdir(dirname, dironly)) \u001b[39mas\u001b[39;00m it:\n\u001b[1;32m--> 136\u001b[0m         \u001b[39mreturn\u001b[39;00m \u001b[39mlist\u001b[39;49m(it)\n",
      "File \u001b[1;32mc:\\Users\\fromw\\anaconda3\\envs\\jpg_del_dup\\lib\\glob.py:124\u001b[0m, in \u001b[0;36m_iterdir\u001b[1;34m(dirname, dironly)\u001b[0m\n\u001b[0;32m    122\u001b[0m         dirname \u001b[39m=\u001b[39m os\u001b[39m.\u001b[39mcurdir\n\u001b[0;32m    123\u001b[0m \u001b[39mtry\u001b[39;00m:\n\u001b[1;32m--> 124\u001b[0m     \u001b[39mwith\u001b[39;00m os\u001b[39m.\u001b[39;49mscandir(dirname) \u001b[39mas\u001b[39;00m it:\n\u001b[0;32m    125\u001b[0m         \u001b[39mfor\u001b[39;00m entry \u001b[39min\u001b[39;00m it:\n\u001b[0;32m    126\u001b[0m             \u001b[39mtry\u001b[39;00m:\n",
      "\u001b[1;31mKeyboardInterrupt\u001b[0m: "
     ]
    }
   ],
   "source": [
    "import glob, os\n",
    "from pathlib import Path, WindowsPath, PurePosixPath\n",
    "import pickle\n",
    "from datetime import datetime\n",
    "from PIL import Image\n",
    "\n",
    "del_dir = \"./iPhoneXR_undocumented/**\"\n",
    "nodel_dir = \"./来自wp的相册/**\"\n",
    "\n",
    "del_filename = []\n",
    "\n",
    "\n",
    "def get_date_taken(path):\n",
    "    exif = Image.open(path)._getexif()\n",
    "    if not exif:\n",
    "        raise Exception('Image {0} does not have EXIF data.'.format(path))\n",
    "    return exif[36867]\n",
    "\n",
    "for filename in glob.iglob(pathname= nodel_dir, recursive=True):\n",
    "    if os.path.isfile(filename): # filter dirs\n",
    "        ext = Path(filename).suffix \n",
    "        fname = Path(filename).stem \n",
    "        for filename2 in glob.iglob(pathname= del_dir, recursive=True):\n",
    "            if os.path.isfile(filename2): # filter dirs\n",
    "                ext2 = Path(filename2).suffix \n",
    "                fname2 = Path(filename2).stem \n",
    "                if (fname2 == fname) :\n",
    "                    if ((ext == '.HEIC') and (ext2 == '.JPG')):\n",
    "                        #and (get_date_taken(Path(filename2)) == get_date_taken(Path(filename))):\n",
    "                        del_filename.append(Path(filename2))\n",
    "                    elif (ext == '.MOV') and (ext2 == '.MOV'):\n",
    "                        del_filename.append(Path(filename2))\n",
    "                    \n"
   ]
  },
  {
   "cell_type": "markdown",
   "metadata": {},
   "source": [
    "windows系统的路径格式和linux的不同，通过实验，用str.replace('\\\\', '/')方式，将\\全部转换为/，是最合适的。Path库并不好用。"
   ]
  },
  {
   "cell_type": "code",
   "execution_count": 43,
   "metadata": {},
   "outputs": [
    {
     "name": "stdout",
     "output_type": "stream",
     "text": [
      "iPhoneXR_undocumented\\101APPLE\\IMG_1242.JPG\n",
      "iPhoneXR_undocumented\\101APPLE\\IMG_1242.JPG\n",
      "iPhoneXR_undocumented\\101APPLE\\IMG_1242.JPG\n",
      ".\\iPhoneXR_undocumented\\101APPLE\\IMG_1242.JPG\n",
      "./iPhoneXR_undocumented\\101APPLE\\IMG_1242.JPG\n",
      "./iPhoneXR_undocumented/101APPLE/IMG_1242.JPG\n",
      "2019:11:22 11:10:49\n"
     ]
    }
   ],
   "source": [
    "print(Path(filename2))\n",
    "print(WindowsPath(filename2))\n",
    "print(PurePosixPath(filename2))\n",
    "print(filename2.replace(os.altsep, os.sep))\n",
    "print(filename2.replace('\\\\', os.sep))\n",
    "print(filename2.replace('\\\\', '/'))\n",
    "print(get_date_taken(filename2.replace('\\\\', '/')))"
   ]
  },
  {
   "cell_type": "code",
   "execution_count": 26,
   "metadata": {},
   "outputs": [
    {
     "name": "stdout",
     "output_type": "stream",
     "text": [
      "2019:10:02 14:11:25\n"
     ]
    }
   ],
   "source": [
    "print(get_date_taken('./iPhoneXR_undocumented/100APPLE/IMG_0427.JPG'))"
   ]
  },
  {
   "cell_type": "code",
   "execution_count": null,
   "metadata": {},
   "outputs": [],
   "source": [
    "nodel_file = []\n",
    "q_file = []\n",
    "          \n",
    "for f in findAllFile(conn, share_name ,top= nodel_dir):\n",
    "    nodel_file.append(f)\n",
    "for f in findAllFile(conn, share_name ,top= remote_dir):\n",
    "    q_file.append(f)\n",
    "    \n"
   ]
  },
  {
   "cell_type": "code",
   "execution_count": null,
   "metadata": {},
   "outputs": [],
   "source": [
    "def write_list(list_name,filename):\n",
    "    # store list in binary file so 'wb' mode\n",
    "    with open(filename, 'wb') as fp:\n",
    "        pickle.dump(list_name, fp)\n",
    "        print('Done writing list into a binary file')\n",
    "        \n",
    "# Read list to memory\n",
    "def read_list(filename):\n",
    "    # for reading also binary mode is important\n",
    "    with open(filename, 'rb') as fp:\n",
    "        n_list = pickle.load(fp)\n",
    "        return n_list\n",
    "    \n",
    "write_list(nodel_file, 'nodel.lst')\n",
    "write_list(q_file, 'q_file.lst')"
   ]
  },
  {
   "cell_type": "code",
   "execution_count": null,
   "metadata": {},
   "outputs": [],
   "source": [
    "q_file_r = read_list( 'q_file.lst')\n",
    "nodel_r = read_list( 'nodel.lst')\n",
    "delfile = []\n",
    "reserve_file = []\n",
    "for f in q_file_r:\n",
    "    obj_file = Path(f).stem\n",
    "    for f2 in nodel_r:\n",
    "        delornot = Path(f2).stem\n",
    "        if obj_file == delornot:\n",
    "            delfile.append(f)\n",
    "            reserve_file.append(f2)\n",
    "            # print(f+' should be del')\n",
    "\n",
    "write_list(delfile, 'del_file.lst')\n",
    "write_list(reserve_file, 'reserve_file.lst')"
   ]
  },
  {
   "cell_type": "code",
   "execution_count": null,
   "metadata": {},
   "outputs": [],
   "source": [
    "delfile = read_list( 'del_file.lst')\n",
    "reserve_file = read_list( 'reserve_file.lst')"
   ]
  },
  {
   "cell_type": "code",
   "execution_count": null,
   "metadata": {},
   "outputs": [],
   "source": [
    "for idx, f in enumerate(delfile):\n",
    "    attr1 = conn.getAttributes(share_name, f)\n",
    "    attr2 = conn.getAttributes(share_name, reserve_file[idx])\n",
    "    # print(f + ' shot time: ' )\n",
    "    # print(datetime.fromtimestamp(attr1.create_time))\n",
    "    # print(reserve_file[idx] + ' shot time: ' )\n",
    "    # print(datetime.fromtimestamp(attr2.create_time))\n",
    "    if attr1.create_time -attr2.create_time > 24*3600 :\n",
    "        print('NO same shot time')\n",
    "\n",
    "    if idx >= 1966:\n",
    "        break\n",
    "\n"
   ]
  }
 ],
 "metadata": {
  "kernelspec": {
   "display_name": "Python 3.9.17 ('jpg_del_dup')",
   "language": "python",
   "name": "python3"
  },
  "language_info": {
   "codemirror_mode": {
    "name": "ipython",
    "version": 3
   },
   "file_extension": ".py",
   "mimetype": "text/x-python",
   "name": "python",
   "nbconvert_exporter": "python",
   "pygments_lexer": "ipython3",
   "version": "3.9.17"
  },
  "orig_nbformat": 4,
  "vscode": {
   "interpreter": {
    "hash": "66e72f02b5d432541a3af06c4aebb0b13a5fbc2c4b6cb75d8f7ca4ec36faa41f"
   }
  }
 },
 "nbformat": 4,
 "nbformat_minor": 2
}
