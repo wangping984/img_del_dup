{
 "cells": [
  {
   "cell_type": "code",
   "execution_count": 9,
   "id": "bf7e4b94",
   "metadata": {},
   "outputs": [
    {
     "name": "stdout",
     "output_type": "stream",
     "text": [
      ".\n",
      "..\n",
      "update\n",
      "WeiXin\n",
      "com.hikistor.histor\n",
      "com_heytap_usercenter\n",
      "com_heytap_usercenter_new\n",
      "政治的人生 by 王沪宁 (z-lib.org).pdf\n",
      "PhaseShiftNetwork diagram.pptx\n",
      "GVA-123+.pdf\n",
      "Schematic_esp32c3_mb_2022-03-02.pdf\n",
      "心路沧桑——从国民党60军到共产党50军 by 高戈里 (z-lib.org).epub\n",
      "2023063001276606348(1).pdf\n",
      "美国反对美国 by 王沪宁 (z-lib.org).pdf\n",
      "P020220218522078793799.pdf\n",
      "2023063001276606348.pdf\n",
      "也许你该找个人聊聊 (洛莉·戈特利布) (z-lib.org).epub\n",
      "PhaseShiftNetwork diagram(1).pptx\n",
      "WSUK-SW-3-NP-STEERING.pdf\n",
      "CN_200N_SERIES_datasheet.pdf\n",
      "SAP-28-R2.pdf\n",
      "P020221125534678735252.pdf\n",
      "1667304760875-DJI-v4.3.54_221028-1164-36655_official_sec.apk\n",
      "LAN drive - SAMBA Server & Cli_8.0_Apkpure.apk\n"
     ]
    }
   ],
   "source": [
    "from smb.SMBConnection import SMBConnection\n",
    "\n",
    "username = \"admin\" # 用户名\n",
    "password = \"admin\"  # 密码\n",
    "my_name='' # 可以为空\n",
    "remote_name = ''  # 共享主机的主机名\n",
    "conn = SMBConnection(username, password, my_name, remote_name, is_direct_tcp=True)\n",
    "conn.connect('192.168.1.163', 4445)\t# 445 默认端口号\n",
    "\n",
    "for file in conn.listPath(\"MainStorage\", \"/Download/\"):\t# 列出共享文件下的文件名\n",
    "    print(file.filename)\n"
   ]
  },
  {
   "cell_type": "code",
   "execution_count": null,
   "id": "8dc18ec3",
   "metadata": {},
   "outputs": [],
   "source": []
  },
  {
   "cell_type": "code",
   "execution_count": null,
   "id": "74dfa33f",
   "metadata": {},
   "outputs": [],
   "source": []
  }
 ],
 "metadata": {
  "kernelspec": {
   "display_name": "Python 3 (ipykernel)",
   "language": "python",
   "name": "python3"
  },
  "language_info": {
   "codemirror_mode": {
    "name": "ipython",
    "version": 3
   },
   "file_extension": ".py",
   "mimetype": "text/x-python",
   "name": "python",
   "nbconvert_exporter": "python",
   "pygments_lexer": "ipython3",
   "version": "3.9.13"
  }
 },
 "nbformat": 4,
 "nbformat_minor": 5
}
