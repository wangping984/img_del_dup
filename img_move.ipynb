{
 "cells": [
  {
   "cell_type": "markdown",
   "metadata": {},
   "source": [
    "群晖moments上传照片，无法自动遍历整个文件夹和子文件夹，所以只能一个文件夹一个文件夹进行，非常麻烦。\n",
    "所以需要将一个大文件夹中的所有目标文件提取到一个位置，不存在子文件夹，这样可以方便上传。\n",
    "但是这样面临的问题就是，比如对于iPhone照片，文件名规则就是IMG_xxxx.JPG/HEIC，会有文件名重合情况出现，要防止overwrite。\n",
    "\n",
    "首先判断文件名中是否有日期信息，如果有，那就肯定不会出现overwrite情况。\n",
    "\n",
    "上面方法太傻，换个方法，建立一个新的文件夹，以及此文件夹中的文件名list，每move一个文件进来，先判断是否存在同名文件，如果没有就move，将list增加该文件名。如果有同名情况，那么建立一个新的文件夹2，将该文件放入新文件夹。\n",
    "这是个递归的过程。可以一次将所有文件处理完毕。\n",
    "\n",
    "用用yield方式？\n",
    "\n",
    "可以不是递归方式，一个foreach即可，所有文件处理完毕就算完成。\n",
    "\n",
    "首先建立测试环境。\n",
    "目标文件类型，参考群晖moments的支持文件格式，图像格式：BMP,GIF,JPEG,PNG,RAW（3fr,arw,cr2,cr3,crw,dcr,dng,erf,k25,kdc,mef,mos,mrw,nef,orf,ptx,pef,raf,raw,rw2,sr2,srf）,TIFF,HEIC\n",
    "视频格式：3G2,3GP,ASF,AVI,DivX,FLV,M4V,MOV,MP4,MPEG,MPG,MTS,M2TS,M2T,QT,WMV,XviD\n",
    "文件夹，子文件夹树状结构。\n",
    "文件名，重名。\n",
    "\n",
    "可以不用建立测试环境，只要没有删除，和overwrite即可。"
   ]
  },
  {
   "cell_type": "markdown",
   "metadata": {},
   "source": [
    "首先，目标文件夹，提取所有影像文件list。"
   ]
  },
  {
   "cell_type": "code",
   "execution_count": 1,
   "metadata": {},
   "outputs": [
    {
     "name": "stdout",
     "output_type": "stream",
     "text": [
      "../photos_mom\\\n",
      "../photos_mom\\0\n",
      "../photos_mom\\1\n"
     ]
    }
   ],
   "source": [
    "import glob, os\n",
    "from pathlib import Path, WindowsPath, PurePosixPath\n",
    "import pickle\n",
    "from datetime import datetime\n",
    "from PIL import Image\n",
    "import exifread\n",
    "\n",
    "src_dir = \"../photos_mom/**\"\n",
    "\n",
    "def write_list(list_name,filename):\n",
    "    # store list in binary file so 'wb' mode\n",
    "    with open(filename, 'wb') as fp:\n",
    "        pickle.dump(list_name, fp)\n",
    "        print('Done writing list into a binary file')\n",
    "        \n",
    "# Read list to memory\n",
    "def read_list(filename):\n",
    "    # for reading also binary mode is important\n",
    "    with open(filename, 'rb') as fp:\n",
    "        n_list = pickle.load(fp)\n",
    "        return n_list\n",
    "\n",
    "\n",
    "file_ext = ['jpg','jpeg','BMP','GIF','JPEG','PNG','RAW','3fr','arw',\\\n",
    "            'cr2','cr3','crw','dcr','dng','erf','k25','kdc','mef','mos',\\\n",
    "                'mrw','nef','orf','ptx','pef','raf','raw','rw2','sr2',\\\n",
    "                    'srf','TIFF','tif','HEIC','3G2','3GP','ASF','AVI','DivX',\\\n",
    "                        'FLV','M4V','MOV','MP4','MPEG','MPG','MTS','M2TS',\\\n",
    "                            'M2T','QT','WMV','XviD']\n",
    "src_file = []\n",
    "\n",
    "for filename in glob.iglob(pathname= src_dir, recursive=True):\n",
    "    if os.path.isfile(filename) \\\n",
    "        and (Path(filename).suffix.lower()[1:] in file_ext or \\\n",
    "             Path(filename).suffix.upper()[1:] in file_ext or \\\n",
    "                Path(filename).suffix[1:] in file_ext):\n",
    "        src_file.append(filename.replace('\\\\', '/'))\n",
    "    else:\n",
    "        print(filename)"
   ]
  },
  {
   "cell_type": "markdown",
   "metadata": {},
   "source": [
    "得到了所有目标文件的列表。\n",
    "下面也进行了文件的移动，但是结果的子文件夹还是有点多。"
   ]
  },
  {
   "cell_type": "code",
   "execution_count": 5,
   "metadata": {},
   "outputs": [],
   "source": [
    "# toDir = \"../photos_mom/\"\n",
    "\n",
    "\n",
    "# index = 0\n",
    "\n",
    "# while src_file:\n",
    "#     tar_dir = toDir+str(index)\n",
    "#     os.makedirs(tar_dir)\n",
    "#     index = index + 1\n",
    "#     toDir_lst = []\n",
    "#     for idx, filename in enumerate(src_file):\n",
    "#         if os.path.basename(filename) not in toDir_lst:\n",
    "#             # move to dir\n",
    "#             # add to TO list\n",
    "#             # remove from src list\n",
    "#             os.rename(filename, tar_dir + '/' + os.path.basename(filename))\n",
    "#             toDir_lst.append(os.path.basename(filename))\n",
    "#             src_file.pop(idx)"
   ]
  },
  {
   "cell_type": "markdown",
   "metadata": {},
   "source": [
    "一共4079个文件，为什么处理后，从最后向前文件夹中的文件数量，1，2，4，8，16，32，64，128，255，511，1020，2038个文件？\n",
    "for循环中的src_file不可以在循环中pop，否则，数量不断的减半。\n",
    "\n",
    "更改为下面的代码，仍然如此。src_file = src_file_t，实际上两个list同时指向一个对象list。应该这样src_file = src_file_t[:]\n",
    "\n",
    "成功，达成目标。\n",
    "\n",
    "他妈的，moments一次最多上传2000个文件。"
   ]
  },
  {
   "cell_type": "code",
   "execution_count": 2,
   "metadata": {},
   "outputs": [],
   "source": [
    "toDir = \"../photos_mom2/\"\n",
    "\n",
    "src_file_t = src_file[:]\n",
    "index = 0\n",
    "\n",
    "while src_file:\n",
    "    tar_dir = toDir+str(index)\n",
    "    os.makedirs(tar_dir)\n",
    "    index = index + 1\n",
    "    toDir_lst = []\n",
    "    for idx, filename in enumerate(src_file):\n",
    "        if idx >= 1999:\n",
    "            break\n",
    "        if os.path.basename(filename) not in toDir_lst:\n",
    "            # move to dir\n",
    "            # add to TO list\n",
    "            # remove from src list\n",
    "            os.rename(filename, tar_dir + '/' + os.path.basename(filename))\n",
    "            toDir_lst.append(os.path.basename(filename))\n",
    "            src_file_t.remove(filename)\n",
    "    \n",
    "    src_file = src_file_t[:]"
   ]
  },
  {
   "cell_type": "markdown",
   "metadata": {},
   "source": []
  }
 ],
 "metadata": {
  "kernelspec": {
   "display_name": "base",
   "language": "python",
   "name": "python3"
  },
  "language_info": {
   "codemirror_mode": {
    "name": "ipython",
    "version": 3
   },
   "file_extension": ".py",
   "mimetype": "text/x-python",
   "name": "python",
   "nbconvert_exporter": "python",
   "pygments_lexer": "ipython3",
   "version": "3.9.13"
  },
  "orig_nbformat": 4
 },
 "nbformat": 4,
 "nbformat_minor": 2
}
