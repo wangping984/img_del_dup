{
 "cells": [
  {
   "cell_type": "code",
   "execution_count": 2,
   "id": "bf7e4b94",
   "metadata": {},
   "outputs": [
    {
     "name": "stdout",
     "output_type": "stream",
     "text": [
      ".\n",
      "..\n",
      "Android\n",
      "Download\n",
      "Music\n",
      "Podcasts\n",
      "Ringtones\n",
      "Alarms\n",
      "Notifications\n",
      "Pictures\n",
      "Movies\n",
      "Backup\n",
      "Documents\n",
      "Audiobooks\n",
      "Recordings\n",
      "MySensorStreams\n",
      "netease\n",
      "BaiduNetdisk\n",
      "sogou\n",
      "com.luojilab.player\n",
      "Tencent\n",
      "app\n",
      "apminsight\n",
      "Geetest\n",
      "tbs\n",
      "DCIM\n",
      "ColorOS\n",
      "Histor\n",
      "alipay\n",
      "amap\n",
      "backups\n",
      "DJI\n",
      "libs\n",
      "pakh\n",
      "umeng_cache\n",
      "bjjj\n",
      "Librera\n",
      "oua_classifier\n",
      "deviceId.txt\n",
      "aibang_log_temp.txt\n"
     ]
    }
   ],
   "source": [
    "from smb.SMBConnection import SMBConnection\n",
    "\n",
    "username = \"admin\" # 用户名\n",
    "password = \"admin\"  # 密码\n",
    "my_name=\"\" # 可以为空\n",
    "remote_name = \"\" # 共享主机的主机名\n",
    "conn = SMBConnection(username, password, my_name, remote_name, is_direct_tcp=True)\n",
    "conn.connect('192.168.31.108', 4445)\t# 445 默认端口号\n",
    "\n",
    "# for file in conn.listPath(\"MainStorage\", \"/Download/WeiXin/\"):\t# 列出共享文件下的文件名\n",
    "for file in conn.listPath(\"MainStorage\", \"/\"):    \n",
    "    print(file.filename)\n"
   ]
  },
  {
   "cell_type": "code",
   "execution_count": 3,
   "id": "8dc18ec3",
   "metadata": {},
   "outputs": [
    {
     "name": "stdout",
     "output_type": "stream",
     "text": [
      "136958\n"
     ]
    }
   ],
   "source": [
    "attr = conn.getAttributes(\"MainStorage\", \"/Download/WeiXin/Release.zip\")\n",
    "print(attr.file_size)"
   ]
  },
  {
   "cell_type": "code",
   "execution_count": null,
   "id": "74dfa33f",
   "metadata": {},
   "outputs": [],
   "source": []
  }
 ],
 "metadata": {
  "kernelspec": {
   "display_name": "Python 3 (ipykernel)",
   "language": "python",
   "name": "python3"
  },
  "language_info": {
   "codemirror_mode": {
    "name": "ipython",
    "version": 3
   },
   "file_extension": ".py",
   "mimetype": "text/x-python",
   "name": "python",
   "nbconvert_exporter": "python",
   "pygments_lexer": "ipython3",
   "version": "3.9.13"
  }
 },
 "nbformat": 4,
 "nbformat_minor": 5
}
